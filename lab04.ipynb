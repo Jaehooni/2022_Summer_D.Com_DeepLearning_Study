{
  "nbformat": 4,
  "nbformat_minor": 0,
  "metadata": {
    "colab": {
      "name": "lab04.ipynb",
      "provenance": [],
      "collapsed_sections": [],
      "authorship_tag": "ABX9TyOFvcwMxrpwFTwB9JQ/vOEn",
      "include_colab_link": true
    },
    "kernelspec": {
      "name": "python3",
      "display_name": "Python 3"
    },
    "language_info": {
      "name": "python"
    }
  },
  "cells": [
    {
      "cell_type": "markdown",
      "metadata": {
        "id": "view-in-github",
        "colab_type": "text"
      },
      "source": [
        "<a href=\"https://colab.research.google.com/github/Jaehooni/2022_Summer_D.Com_DeepLearning_Study/blob/main/lab04.ipynb\" target=\"_parent\"><img src=\"https://colab.research.google.com/assets/colab-badge.svg\" alt=\"Open In Colab\"/></a>"
      ]
    },
    {
      "cell_type": "markdown",
      "source": [
        "**Imports**"
      ],
      "metadata": {
        "id": "384ruKBL-YTU"
      }
    },
    {
      "cell_type": "code",
      "execution_count": 4,
      "metadata": {
        "id": "Y37tzDIa978q"
      },
      "outputs": [],
      "source": [
        "import torch\n",
        "import torch.nn as nn\n",
        "import torch.nn.functional as F\n",
        "import torch.optim as optim"
      ]
    },
    {
      "cell_type": "markdown",
      "source": [
        "**Data**"
      ],
      "metadata": {
        "id": "PEmil64RJyn9"
      }
    },
    {
      "cell_type": "code",
      "source": [
        "x1_train = torch.FloatTensor([[73], [93], [89], [96], [73]])\n",
        "x2_train = torch.FloatTensor([[80], [88], [91], [98], [66]])\n",
        "x3_train = torch.FloatTensor([[75], [93], [90], [100], [70]])\n",
        "y_train = torch.FloatTensor([[152], [185], [180], [196], [142]])"
      ],
      "metadata": {
        "id": "CLpF2UtUJz60"
      },
      "execution_count": 5,
      "outputs": []
    },
    {
      "cell_type": "markdown",
      "source": [
        "**Hypothesis Function**"
      ],
      "metadata": {
        "id": "xfzsHExiJ54j"
      }
    },
    {
      "cell_type": "markdown",
      "source": [
        "$$ H(x_1, x_2, x_3) = x_1w_1 + x_2w_2 + x_3w_3 + b $$\n",
        "　　　　　　　　　　　　　　　　　　　　　　　　　*입력 변수가 3개이니 weight도 3개!*"
      ],
      "metadata": {
        "id": "4qqPnNnHJ-mr"
      }
    },
    {
      "cell_type": "markdown",
      "source": [
        "**Naive Data Representation**"
      ],
      "metadata": {
        "id": "PP4nfAzTLcMN"
      }
    },
    {
      "cell_type": "code",
      "source": [
        "# 모델 초기화\n",
        "w1 = torch.zeros(1, requires_grad=True)\n",
        "w2 = torch.zeros(1, requires_grad=True)\n",
        "w3 = torch.zeros(1, requires_grad=True)\n",
        "b = torch.zeros(1, requires_grad=True)\n",
        "# optimizer 설정\n",
        "optimizer = optim.SGD([w1, w2, w3, b], lr=1e-5)\n",
        "\n",
        "nb_epochs = 1000\n",
        "for epoch in range(nb_epochs + 1):\n",
        "    \n",
        "    # H(x) 계산\n",
        "    hypothesis = x1_train * w1 + x2_train * w2 + x3_train * w3 + b\n",
        "    # 입력 변수가 많아짐에 따라 표현식도 길어짐\n",
        "\n",
        "    # cost 계산\n",
        "    cost = torch.mean((hypothesis - y_train) ** 2)\n",
        "\n",
        "    # cost로 H(x) 개선\n",
        "    optimizer.zero_grad()\n",
        "    cost.backward()\n",
        "    optimizer.step()\n",
        "\n",
        "    # 100번마다 로그 출력\n",
        "    if epoch % 100 == 0:\n",
        "        print('Epoch {:4d}/{} w1: {:.3f} w2: {:.3f} w3: {:.3f} b: {:.3f} Cost: {:.6f}'.format(\n",
        "            epoch, nb_epochs, w1.item(), w3.item(), w3.item(), b.item(), cost.item()\n",
        "        ))"
      ],
      "metadata": {
        "colab": {
          "base_uri": "https://localhost:8080/"
        },
        "id": "k5HSLJ5iKG3N",
        "outputId": "c2b38105-9de3-434e-a039-75d67f464a77"
      },
      "execution_count": 6,
      "outputs": [
        {
          "output_type": "stream",
          "name": "stdout",
          "text": [
            "Epoch    0/1000 w1: 0.294 w2: 0.297 w3: 0.297 b: 0.003 Cost: 29661.800781\n",
            "Epoch  100/1000 w1: 0.674 w2: 0.676 w3: 0.676 b: 0.008 Cost: 1.563628\n",
            "Epoch  200/1000 w1: 0.679 w2: 0.677 w3: 0.677 b: 0.008 Cost: 1.497595\n",
            "Epoch  300/1000 w1: 0.684 w2: 0.677 w3: 0.677 b: 0.008 Cost: 1.435044\n",
            "Epoch  400/1000 w1: 0.689 w2: 0.678 w3: 0.678 b: 0.008 Cost: 1.375726\n",
            "Epoch  500/1000 w1: 0.694 w2: 0.678 w3: 0.678 b: 0.009 Cost: 1.319507\n",
            "Epoch  600/1000 w1: 0.699 w2: 0.679 w3: 0.679 b: 0.009 Cost: 1.266222\n",
            "Epoch  700/1000 w1: 0.704 w2: 0.679 w3: 0.679 b: 0.009 Cost: 1.215703\n",
            "Epoch  800/1000 w1: 0.709 w2: 0.679 w3: 0.679 b: 0.009 Cost: 1.167810\n",
            "Epoch  900/1000 w1: 0.713 w2: 0.680 w3: 0.680 b: 0.009 Cost: 1.122429\n",
            "Epoch 1000/1000 w1: 0.718 w2: 0.680 w3: 0.680 b: 0.009 Cost: 1.079390\n"
          ]
        }
      ]
    },
    {
      "cell_type": "markdown",
      "source": [
        "**Matrix Data Representation**"
      ],
      "metadata": {
        "id": "UpKHvJ2rMCa1"
      }
    },
    {
      "cell_type": "code",
      "source": [
        "x_train = torch.FloatTensor([[73, 80, 75],\n",
        "                             [93, 88, 93],\n",
        "                             [89, 91, 90],\n",
        "                             [96, 98, 100],\n",
        "                             [73, 66, 70]])\n",
        "y_train = torch.FloatTensor([[152], [185], [180], [196], [142]])"
      ],
      "metadata": {
        "id": "f0V_IP7YMFNc"
      },
      "execution_count": 7,
      "outputs": []
    },
    {
      "cell_type": "code",
      "source": [
        "# 모델 초기화\n",
        "W = torch.zeros((3, 1), requires_grad=True)\n",
        "b = torch.zeros(1, requires_grad=True)\n",
        "# optimizer 설정\n",
        "optimizer = optim.SGD([W, b], lr=1e-5)\n",
        "\n",
        "nb_epochs = 20\n",
        "for epoch in range(nb_epochs + 1):\n",
        "    \n",
        "    # H(x) 계산\n",
        "    hypothesis = x_train.matmul(W) + b\n",
        "    # matmul()로 한번에 계산\n",
        "    # 더 간결하고 x의 길이가 바뀌어도 코드를 수정할 필요도 없으며 속도도 더 빠르다!\n",
        "\n",
        "    # cost 계산\n",
        "    cost = torch.mean((hypothesis - y_train) ** 2)\n",
        "\n",
        "    # cost로 H(x) 개선\n",
        "    optimizer.zero_grad()\n",
        "    cost.backward()\n",
        "    optimizer.step()\n",
        "\n",
        "    # 100번마다 로그 출력\n",
        "    print('Epoch {:4d}/{} hypothesis: {} Cost: {:.6f}'.format(\n",
        "        epoch, nb_epochs, hypothesis.squeeze().detach(), cost.item()\n",
        "    ))"
      ],
      "metadata": {
        "colab": {
          "base_uri": "https://localhost:8080/"
        },
        "id": "2C_JmvOXMyG1",
        "outputId": "03c9cbe5-f1a5-4949-f050-b7e4fe812de9"
      },
      "execution_count": 8,
      "outputs": [
        {
          "output_type": "stream",
          "name": "stdout",
          "text": [
            "Epoch    0/20 hypothesis: tensor([0., 0., 0., 0., 0.]) Cost: 29661.800781\n",
            "Epoch    1/20 hypothesis: tensor([67.2578, 80.8397, 79.6523, 86.7394, 61.6605]) Cost: 9298.520508\n",
            "Epoch    2/20 hypothesis: tensor([104.9128, 126.0990, 124.2466, 135.3015,  96.1821]) Cost: 2915.712402\n",
            "Epoch    3/20 hypothesis: tensor([125.9942, 151.4381, 149.2133, 162.4896, 115.5097]) Cost: 915.040527\n",
            "Epoch    4/20 hypothesis: tensor([137.7967, 165.6247, 163.1911, 177.7112, 126.3307]) Cost: 287.936096\n",
            "Epoch    5/20 hypothesis: tensor([144.4044, 173.5674, 171.0168, 186.2332, 132.3891]) Cost: 91.371063\n",
            "Epoch    6/20 hypothesis: tensor([148.1035, 178.0143, 175.3980, 191.0042, 135.7812]) Cost: 29.758249\n",
            "Epoch    7/20 hypothesis: tensor([150.1744, 180.5042, 177.8509, 193.6753, 137.6805]) Cost: 10.445267\n",
            "Epoch    8/20 hypothesis: tensor([151.3336, 181.8983, 179.2240, 195.1707, 138.7440]) Cost: 4.391237\n",
            "Epoch    9/20 hypothesis: tensor([151.9824, 182.6789, 179.9928, 196.0079, 139.3396]) Cost: 2.493121\n",
            "Epoch   10/20 hypothesis: tensor([152.3454, 183.1161, 180.4231, 196.4765, 139.6732]) Cost: 1.897688\n",
            "Epoch   11/20 hypothesis: tensor([152.5485, 183.3609, 180.6640, 196.7389, 139.8602]) Cost: 1.710552\n",
            "Epoch   12/20 hypothesis: tensor([152.6620, 183.4982, 180.7988, 196.8857, 139.9651]) Cost: 1.651416\n",
            "Epoch   13/20 hypothesis: tensor([152.7253, 183.5752, 180.8742, 196.9678, 140.0240]) Cost: 1.632369\n",
            "Epoch   14/20 hypothesis: tensor([152.7606, 183.6184, 180.9164, 197.0138, 140.0571]) Cost: 1.625924\n",
            "Epoch   15/20 hypothesis: tensor([152.7802, 183.6427, 180.9399, 197.0395, 140.0759]) Cost: 1.623420\n",
            "Epoch   16/20 hypothesis: tensor([152.7909, 183.6565, 180.9530, 197.0538, 140.0865]) Cost: 1.622152\n",
            "Epoch   17/20 hypothesis: tensor([152.7968, 183.6643, 180.9603, 197.0618, 140.0927]) Cost: 1.621262\n",
            "Epoch   18/20 hypothesis: tensor([152.7999, 183.6688, 180.9644, 197.0661, 140.0963]) Cost: 1.620501\n",
            "Epoch   19/20 hypothesis: tensor([152.8014, 183.6715, 180.9665, 197.0686, 140.0985]) Cost: 1.619757\n",
            "Epoch   20/20 hypothesis: tensor([152.8020, 183.6731, 180.9677, 197.0699, 140.0999]) Cost: 1.619046\n"
          ]
        }
      ]
    },
    {
      "cell_type": "markdown",
      "source": [
        "**Training with nn.module**\n",
        "\n",
        "\n",
        "*   nn.module을 상속해서 모델 생성\n",
        "*   nn.linear(x,y)\n",
        "> *   입력 차원 : x\n",
        "> *   출력 차원 : y\n",
        "* Hypothesis 계산은 forward() 에서!\n",
        "* Gradient 계산은 PyTorch가 알아서 해준다 backward()\n",
        "\n"
      ],
      "metadata": {
        "id": "efDLpIYDOHKt"
      }
    },
    {
      "cell_type": "markdown",
      "source": [
        "**F.mse_loss**\n",
        "*   torch.nn.functional 에서 제공하는 loss function 사용\n",
        "*   쉽게 다른 loss와 교체 가능!!(호환성)\n",
        "\n"
      ],
      "metadata": {
        "id": "zIKYqPoBPVdl"
      }
    },
    {
      "cell_type": "markdown",
      "source": [
        "**Define Linear Regression with nn.module**"
      ],
      "metadata": {
        "id": "2hAK8lplPoAF"
      }
    },
    {
      "cell_type": "code",
      "source": [
        "class LinearRegressionModel(nn.Module):\n",
        "    def __init__(self):\n",
        "        super().__init__()\n",
        "        self.linear = nn.Linear(1, 1)\n",
        "\n",
        "    def forward(self, x):\n",
        "        return self.linear(x)"
      ],
      "metadata": {
        "id": "9AZAMC7ZOKVl"
      },
      "execution_count": 9,
      "outputs": []
    },
    {
      "cell_type": "markdown",
      "source": [
        "**Define Multivariate Linear Regression with nn.module**"
      ],
      "metadata": {
        "id": "dKt58yUqPuq0"
      }
    },
    {
      "cell_type": "code",
      "source": [
        "class MultivariateLinearRegressionModel(nn.Module):\n",
        "    def __init__(self):\n",
        "        super().__init__()\n",
        "        self.linear = nn.Linear(3, 1)\n",
        "\n",
        "    def forward(self, x):\n",
        "        return self.linear(x)"
      ],
      "metadata": {
        "id": "wipdqJLQP4w1"
      },
      "execution_count": 10,
      "outputs": []
    },
    {
      "cell_type": "code",
      "source": [
        "# 데이터\n",
        "x_train = torch.FloatTensor([[73, 80, 75],\n",
        "                             [93, 88, 93],\n",
        "                             [89, 91, 90],\n",
        "                             [96, 98, 100],\n",
        "                             [73, 66, 70]])\n",
        "y_train = torch.FloatTensor([[152], [185], [180], [196], [142]])\n",
        "\n",
        "# 모델 초기화\n",
        "model = MultivariateLinearRegressionModel()\n",
        "'''\n",
        "W = torch.zeros((3, 1), requires_grad=True)\n",
        "b = torch.zeros(1, requires_grad=True)\n",
        "'''\n",
        "\n",
        "# optimizer 설정\n",
        "optimizer = optim.SGD(model.parameters(), lr=1e-5)"
      ],
      "metadata": {
        "id": "-xcVnQ8jQCrV"
      },
      "execution_count": 11,
      "outputs": []
    },
    {
      "cell_type": "code",
      "source": [
        "nb_epochs = 20\n",
        "for epoch in range(nb_epochs+1):\n",
        "    \n",
        "    # H(x) 계산\n",
        "    prediction = model(x_train)\n",
        "    # hypothesis = x_train.matmul(W) + b\n",
        "    \n",
        "    # cost 계산\n",
        "    cost = F.mse_loss(prediction, y_train)\n",
        "    # cost = torch.mean((hypothesis - y_train) ** 2)\n",
        "    \n",
        "    # cost로 H(x) 개선\n",
        "    optimizer.zero_grad()\n",
        "    cost.backward()\n",
        "    optimizer.step()\n",
        "    \n",
        "    # 20번마다 로그 출력\n",
        "    print('Epoch {:4d}/{} Cost: {:.6f}'.format(\n",
        "        epoch, nb_epochs, cost.item()\n",
        "    ))"
      ],
      "metadata": {
        "colab": {
          "base_uri": "https://localhost:8080/"
        },
        "id": "mBspgsNMQLjl",
        "outputId": "ec9c9e39-0d43-4bde-df70-3006fb8e0853"
      },
      "execution_count": 12,
      "outputs": [
        {
          "output_type": "stream",
          "name": "stdout",
          "text": [
            "Epoch    0/20 Cost: 26469.244141\n",
            "Epoch    1/20 Cost: 8301.759766\n",
            "Epoch    2/20 Cost: 2607.215332\n",
            "Epoch    3/20 Cost: 822.276367\n",
            "Epoch    4/20 Cost: 262.789642\n",
            "Epoch    5/20 Cost: 87.417679\n",
            "Epoch    6/20 Cost: 32.445065\n",
            "Epoch    7/20 Cost: 15.211606\n",
            "Epoch    8/20 Cost: 9.807171\n",
            "Epoch    9/20 Cost: 8.110554\n",
            "Epoch   10/20 Cost: 7.576097\n",
            "Epoch   11/20 Cost: 7.405959\n",
            "Epoch   12/20 Cost: 7.350004\n",
            "Epoch   13/20 Cost: 7.329829\n",
            "Epoch   14/20 Cost: 7.320867\n",
            "Epoch   15/20 Cost: 7.315442\n",
            "Epoch   16/20 Cost: 7.311123\n",
            "Epoch   17/20 Cost: 7.307159\n",
            "Epoch   18/20 Cost: 7.303251\n",
            "Epoch   19/20 Cost: 7.299470\n",
            "Epoch   20/20 Cost: 7.295625\n"
          ]
        }
      ]
    },
    {
      "cell_type": "markdown",
      "source": [
        "**Data in the Real World: Problem**\n",
        "\n",
        "\n",
        "*   엄청난 양의 데이터를 한번에 학습시킬 수 없다!\n",
        "    > * 너무 느리다\n",
        "    > * 하드웨어적으로 불가능하다.\n",
        "*   그렇다면 일부분의 데이터로만 학습하면 어떨까?"
      ],
      "metadata": {
        "id": "f4JXi2713G3-"
      }
    },
    {
      "cell_type": "markdown",
      "source": [
        "**Minibatch Gradient Descent**\n",
        "\n",
        "\n",
        "*   많은 데이터를 학습하는 데에 쓰이는 기법\n",
        "*   데이터를 균일하게 나눠서 학습\n",
        "\n",
        "* *장점*\n",
        "  > * 업데이트를 빠르게 할 수 있다.\n",
        "\n",
        "* *단점*\n",
        " > * 전체 데이터를 쓰지 않아서 잘못된 방향으로 업데이트를 할 수도 있다.\n",
        "\n"
      ],
      "metadata": {
        "id": "GcNemH1d3JVV"
      }
    },
    {
      "cell_type": "markdown",
      "source": [
        "**PyTorch Dataset**"
      ],
      "metadata": {
        "id": "lF78OhBt3M8F"
      }
    },
    {
      "cell_type": "code",
      "source": [
        "from torch.utils.data import Dataset\n",
        "\n",
        "class CustomDataset(Dataset):\n",
        "  def __init__(self):\n",
        "    self.x_data = [[73, 80, 75],\n",
        "                   [93, 88, 93],\n",
        "                   [89, 91, 90],\n",
        "                   [96, 98, 100],\n",
        "                   [73, 66, 70]]\n",
        "\n",
        "    self.y_data = [[152], [185], [180], [196], [142]]\n",
        "\n",
        "  def __len__(self):\n",
        "    return len(self.x_data)\n",
        "\n",
        "  def __getitem__(self, idx):\n",
        "    x = torch.FloatTensor(self.x_data[idx])\n",
        "    y = torch.FloatTensor(self.y_data[idx])\n",
        "    \n",
        "    return x, y\n",
        "\n",
        "dataset = CustomDataset()"
      ],
      "metadata": {
        "id": "Dse9LDB-3Hs1"
      },
      "execution_count": 13,
      "outputs": []
    },
    {
      "cell_type": "markdown",
      "source": [
        "**PyTorch DataLoader**"
      ],
      "metadata": {
        "id": "gDOdY-Ui3PwN"
      }
    },
    {
      "cell_type": "code",
      "source": [
        "from torch.utils.data import DataLoader\n",
        "\n",
        "dataloader = DataLoader(\n",
        "    dataset,\n",
        "    batch_size=2, # 각 minibatch의 크기, 통상적으로 2의 제곱수로 설정\n",
        "    shuffle=True, # Epoch마다 데이터셋을 섞어서, 데이터가 학습되는 순서를 바꾼다.\n",
        ")"
      ],
      "metadata": {
        "id": "2NFCtzwV3QlF"
      },
      "execution_count": 14,
      "outputs": []
    },
    {
      "cell_type": "code",
      "source": [
        "nb_epochs = 20\n",
        "for epoch in range(nb_epochs+1):\n",
        "  for batch_idx, samples in enumerate(dataloader):\n",
        "    x_train, y_train = samples\n",
        "    # H(x) 계산\n",
        "    prediction = model(x_train)\n",
        "\n",
        "    # cost 계산\n",
        "    cost = F.mse_loss(prediction, y_train)\n",
        "  \n",
        "    # cost로 H(x) 개선\n",
        "    optimizer.zero_grad()\n",
        "    cost.backward()\n",
        "    optimizer.step()\n",
        "    \n",
        "    # 20번마다 로그 출력\n",
        "    print('Epoch {:4d}/{} Batch {}/{} Cost: {:.6f}'.format(\n",
        "        epoch, nb_epochs, batch_idx+1, len(dataloader), cost.item()\n",
        "    ))"
      ],
      "metadata": {
        "colab": {
          "base_uri": "https://localhost:8080/"
        },
        "id": "Esu-PvvY3RyF",
        "outputId": "de3ed615-590e-4d7f-923f-c3bf2ff5b136"
      },
      "execution_count": 15,
      "outputs": [
        {
          "output_type": "stream",
          "name": "stdout",
          "text": [
            "Epoch    0/20 Batch 1/3 Cost: 6.524961\n",
            "Epoch    0/20 Batch 2/3 Cost: 7.786083\n",
            "Epoch    0/20 Batch 3/3 Cost: 12.492691\n",
            "Epoch    1/20 Batch 1/3 Cost: 7.185797\n",
            "Epoch    1/20 Batch 2/3 Cost: 10.579860\n",
            "Epoch    1/20 Batch 3/3 Cost: 11.343090\n",
            "Epoch    2/20 Batch 1/3 Cost: 5.411797\n",
            "Epoch    2/20 Batch 2/3 Cost: 11.112000\n",
            "Epoch    2/20 Batch 3/3 Cost: 11.343193\n",
            "Epoch    3/20 Batch 1/3 Cost: 7.924463\n",
            "Epoch    3/20 Batch 2/3 Cost: 11.816064\n",
            "Epoch    3/20 Batch 3/3 Cost: 1.087943\n",
            "Epoch    4/20 Batch 1/3 Cost: 4.843258\n",
            "Epoch    4/20 Batch 2/3 Cost: 6.560040\n",
            "Epoch    4/20 Batch 3/3 Cost: 16.004272\n",
            "Epoch    5/20 Batch 1/3 Cost: 9.303519\n",
            "Epoch    5/20 Batch 2/3 Cost: 9.095070\n",
            "Epoch    5/20 Batch 3/3 Cost: 15.852757\n",
            "Epoch    6/20 Batch 1/3 Cost: 4.057601\n",
            "Epoch    6/20 Batch 2/3 Cost: 13.062800\n",
            "Epoch    6/20 Batch 3/3 Cost: 13.463063\n",
            "Epoch    7/20 Batch 1/3 Cost: 3.601311\n",
            "Epoch    7/20 Batch 2/3 Cost: 7.199119\n",
            "Epoch    7/20 Batch 3/3 Cost: 16.933395\n",
            "Epoch    8/20 Batch 1/3 Cost: 3.855381\n",
            "Epoch    8/20 Batch 2/3 Cost: 18.759296\n",
            "Epoch    8/20 Batch 3/3 Cost: 6.398887\n",
            "Epoch    9/20 Batch 1/3 Cost: 11.608851\n",
            "Epoch    9/20 Batch 2/3 Cost: 7.059326\n",
            "Epoch    9/20 Batch 3/3 Cost: 0.062157\n",
            "Epoch   10/20 Batch 1/3 Cost: 5.476701\n",
            "Epoch   10/20 Batch 2/3 Cost: 15.730348\n",
            "Epoch   10/20 Batch 3/3 Cost: 7.663374\n",
            "Epoch   11/20 Batch 1/3 Cost: 6.310722\n",
            "Epoch   11/20 Batch 2/3 Cost: 8.981609\n",
            "Epoch   11/20 Batch 3/3 Cost: 17.973248\n",
            "Epoch   12/20 Batch 1/3 Cost: 10.451200\n",
            "Epoch   12/20 Batch 2/3 Cost: 11.325550\n",
            "Epoch   12/20 Batch 3/3 Cost: 10.013995\n",
            "Epoch   13/20 Batch 1/3 Cost: 10.827028\n",
            "Epoch   13/20 Batch 2/3 Cost: 6.120712\n",
            "Epoch   13/20 Batch 3/3 Cost: 6.148108\n",
            "Epoch   14/20 Batch 1/3 Cost: 10.860022\n",
            "Epoch   14/20 Batch 2/3 Cost: 7.037558\n",
            "Epoch   14/20 Batch 3/3 Cost: 5.607262\n",
            "Epoch   15/20 Batch 1/3 Cost: 11.619458\n",
            "Epoch   15/20 Batch 2/3 Cost: 7.038874\n",
            "Epoch   15/20 Batch 3/3 Cost: 0.046014\n",
            "Epoch   16/20 Batch 1/3 Cost: 5.385876\n",
            "Epoch   16/20 Batch 2/3 Cost: 7.860874\n",
            "Epoch   16/20 Batch 3/3 Cost: 12.925570\n",
            "Epoch   17/20 Batch 1/3 Cost: 12.109413\n",
            "Epoch   17/20 Batch 2/3 Cost: 3.817850\n",
            "Epoch   17/20 Batch 3/3 Cost: 8.498431\n",
            "Epoch   18/20 Batch 1/3 Cost: 7.580195\n",
            "Epoch   18/20 Batch 2/3 Cost: 4.754608\n",
            "Epoch   18/20 Batch 3/3 Cost: 15.323588\n",
            "Epoch   19/20 Batch 1/3 Cost: 0.734003\n",
            "Epoch   19/20 Batch 2/3 Cost: 12.146257\n",
            "Epoch   19/20 Batch 3/3 Cost: 12.478565\n",
            "Epoch   20/20 Batch 1/3 Cost: 5.866036\n",
            "Epoch   20/20 Batch 2/3 Cost: 9.814301\n",
            "Epoch   20/20 Batch 3/3 Cost: 13.717203\n"
          ]
        }
      ]
    }
  ]
}