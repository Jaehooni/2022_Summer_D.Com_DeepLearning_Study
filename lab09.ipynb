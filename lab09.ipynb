{
  "nbformat": 4,
  "nbformat_minor": 0,
  "metadata": {
    "colab": {
      "name": "lab09.ipynb",
      "provenance": [],
      "authorship_tag": "ABX9TyO3FyhVZjtxwb+lZW9OYFFV",
      "include_colab_link": true
    },
    "kernelspec": {
      "name": "python3",
      "display_name": "Python 3"
    },
    "language_info": {
      "name": "python"
    }
  },
  "cells": [
    {
      "cell_type": "markdown",
      "metadata": {
        "id": "view-in-github",
        "colab_type": "text"
      },
      "source": [
        "<a href=\"https://colab.research.google.com/github/Jaehooni/2022_Summer_D.Com_DeepLearning_Study/blob/main/lab09.ipynb\" target=\"_parent\"><img src=\"https://colab.research.google.com/assets/colab-badge.svg\" alt=\"Open In Colab\"/></a>"
      ]
    },
    {
      "cell_type": "code",
      "execution_count": 10,
      "metadata": {
        "id": "dmaKZ1J2G6ts"
      },
      "outputs": [],
      "source": [
        "import torch\n",
        "import torchvision.datasets as dsets\n",
        "import torchvision.transforms as transforms\n",
        "import random"
      ]
    },
    {
      "cell_type": "code",
      "source": [
        "device = 'cuda' if torch.cuda.is_available() else 'cpu'\n",
        "\n",
        "# parameters\n",
        "learning_rate = 0.001\n",
        "training_epochs = 15\n",
        "batch_size = 100"
      ],
      "metadata": {
        "id": "K_ss7pzVHDnS"
      },
      "execution_count": 11,
      "outputs": []
    },
    {
      "cell_type": "code",
      "source": [
        "# MNIST dataset\n",
        "mnist_train = dsets.MNIST(root='MNIST_data/',\n",
        "                          train=True,\n",
        "                          transform=transforms.ToTensor(),\n",
        "                          download=True)\n",
        "\n",
        "mnist_test = dsets.MNIST(root='MNIST_data/',\n",
        "                         train=False,\n",
        "                         transform=transforms.ToTensor(),\n",
        "                         download=True)"
      ],
      "metadata": {
        "id": "mhbfslgbHE6w"
      },
      "execution_count": 12,
      "outputs": []
    },
    {
      "cell_type": "code",
      "source": [
        "# dataset loader\n",
        "data_loader = torch.utils.data.DataLoader(dataset=mnist_train,\n",
        "                                          batch_size=batch_size,\n",
        "                                          shuffle=True,\n",
        "                                          drop_last=True)\n",
        "# MNIST data image of shape 28 * 28 = 784\n",
        "linear = torch.nn.Linear(784, 10, bias=True).to(device)\n",
        "# Initialization\n",
        "torch.nn.init.normal_(linear.weight)"
      ],
      "metadata": {
        "colab": {
          "base_uri": "https://localhost:8080/"
        },
        "id": "_2cnKzfeHF8T",
        "outputId": "e7bbef91-bacf-4814-f8de-e79fa42338e3"
      },
      "execution_count": 13,
      "outputs": [
        {
          "output_type": "execute_result",
          "data": {
            "text/plain": [
              "Parameter containing:\n",
              "tensor([[-6.2978e-05, -1.2402e-01, -5.6376e-01,  ...,  3.3620e-01,\n",
              "          3.2351e-01, -5.5281e-02],\n",
              "        [ 1.3605e+00, -1.8623e+00,  2.8041e-01,  ...,  2.6015e-02,\n",
              "          2.5788e-01, -8.0927e-01],\n",
              "        [ 5.1749e-01,  3.9935e-01,  4.9476e-01,  ...,  1.0317e+00,\n",
              "         -2.9845e-01, -3.4908e-01],\n",
              "        ...,\n",
              "        [ 3.3349e-01, -1.6081e-01, -1.3652e+00,  ..., -8.1097e-01,\n",
              "         -9.3845e-01, -2.0779e-01],\n",
              "        [-1.5903e+00, -1.0323e+00,  1.6285e+00,  ..., -5.7595e-01,\n",
              "         -1.1127e-01, -2.7456e-02],\n",
              "        [ 9.1513e-01,  1.2478e+00,  4.6507e-01,  ..., -2.6972e-01,\n",
              "          9.5281e-02, -8.0135e-01]], requires_grad=True)"
            ]
          },
          "metadata": {},
          "execution_count": 13
        }
      ]
    },
    {
      "cell_type": "markdown",
      "source": [
        "**define cost/loss & optimizer**"
      ],
      "metadata": {
        "id": "xVRr5iR3HLzB"
      }
    },
    {
      "cell_type": "code",
      "source": [
        "criterion = torch.nn.CrossEntropyLoss().to(device)    # Softmax is internally computed.\n",
        "optimizer = torch.optim.Adam(linear.parameters(), lr=learning_rate)"
      ],
      "metadata": {
        "id": "3dZjCn5iHHVy"
      },
      "execution_count": 14,
      "outputs": []
    },
    {
      "cell_type": "code",
      "source": [
        "total_batch = len(data_loader)\n",
        "for epoch in range(training_epochs):\n",
        "    avg_cost = 0\n",
        "\n",
        "    for X, Y in data_loader:\n",
        "        # reshape input image into [batch_size by 784]\n",
        "        # label is not one-hot encoded\n",
        "        X = X.view(-1, 28 * 28).to(device)\n",
        "        Y = Y.to(device)\n",
        "\n",
        "        optimizer.zero_grad()\n",
        "        hypothesis = linear(X)\n",
        "        cost = criterion(hypothesis, Y)\n",
        "        cost.backward()\n",
        "        optimizer.step()\n",
        "\n",
        "        avg_cost += cost / total_batch\n",
        "\n",
        "    print('Epoch:', '%04d' % (epoch + 1), 'cost =', '{:.9f}'.format(avg_cost))\n",
        "\n",
        "print('Learning finished')"
      ],
      "metadata": {
        "colab": {
          "base_uri": "https://localhost:8080/"
        },
        "id": "D0x38Yx2HKPf",
        "outputId": "c969aff7-8f37-4946-d362-a3ae2774e017"
      },
      "execution_count": null,
      "outputs": [
        {
          "output_type": "stream",
          "name": "stdout",
          "text": [
            "Epoch: 0001 cost = 5.775386810\n",
            "Epoch: 0002 cost = 1.630211592\n",
            "Epoch: 0003 cost = 1.079789162\n",
            "Epoch: 0004 cost = 0.857477665\n",
            "Epoch: 0005 cost = 0.732767701\n",
            "Epoch: 0006 cost = 0.650290251\n",
            "Epoch: 0007 cost = 0.590530455\n",
            "Epoch: 0008 cost = 0.546353459\n"
          ]
        }
      ]
    }
  ]
}