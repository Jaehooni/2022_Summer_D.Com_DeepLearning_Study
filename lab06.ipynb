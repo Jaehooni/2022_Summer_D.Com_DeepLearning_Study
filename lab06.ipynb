{
  "nbformat": 4,
  "nbformat_minor": 0,
  "metadata": {
    "colab": {
      "name": "lab06.ipynb",
      "provenance": [],
      "collapsed_sections": [],
      "include_colab_link": true
    },
    "kernelspec": {
      "name": "python3",
      "display_name": "Python 3"
    }
  },
  "cells": [
    {
      "cell_type": "markdown",
      "metadata": {
        "id": "view-in-github",
        "colab_type": "text"
      },
      "source": [
        "<a href=\"https://colab.research.google.com/github/Jaehooni/2022_Summer_D.Com_DeepLearning_Study/blob/main/lab06.ipynb\" target=\"_parent\"><img src=\"https://colab.research.google.com/assets/colab-badge.svg\" alt=\"Open In Colab\"/></a>"
      ]
    },
    {
      "cell_type": "markdown",
      "source": [
        "**Imports**"
      ],
      "metadata": {
        "id": "sc1j35d5EvWI"
      }
    },
    {
      "cell_type": "code",
      "execution_count": 14,
      "metadata": {
        "id": "TCJwTpZQGi92"
      },
      "outputs": [],
      "source": [
        "import torch\n",
        "import torch.nn as nn\n",
        "import torch.nn.functional as F\n",
        "import torch.optim as optim"
      ]
    },
    {
      "cell_type": "markdown",
      "source": [
        "**Softmax**\n",
        "$$ P(class=i) = \\frac{e^i}{\\sum e^i} $$"
      ],
      "metadata": {
        "id": "6AQUY86SE5V2"
      }
    },
    {
      "cell_type": "code",
      "source": [
        "z = torch.FloatTensor([1, 2, 3])"
      ],
      "metadata": {
        "id": "dkK05qvCFPUR"
      },
      "execution_count": 15,
      "outputs": []
    },
    {
      "cell_type": "code",
      "source": [
        "hypothesis = F.softmax(z, dim=0)\n",
        "print(hypothesis)"
      ],
      "metadata": {
        "colab": {
          "base_uri": "https://localhost:8080/"
        },
        "id": "RGfEIZd1Ff3p",
        "outputId": "d5f4351b-6610-4372-9b1e-0862a998d300"
      },
      "execution_count": 16,
      "outputs": [
        {
          "output_type": "stream",
          "name": "stdout",
          "text": [
            "tensor([0.0900, 0.2447, 0.6652])\n"
          ]
        }
      ]
    },
    {
      "cell_type": "code",
      "source": [
        "hypothesis.sum()"
      ],
      "metadata": {
        "colab": {
          "base_uri": "https://localhost:8080/"
        },
        "id": "I2eRHnVpF_zK",
        "outputId": "56c36d2b-0288-4a96-98f1-0caca4421e72"
      },
      "execution_count": 17,
      "outputs": [
        {
          "output_type": "execute_result",
          "data": {
            "text/plain": [
              "tensor(1.)"
            ]
          },
          "metadata": {},
          "execution_count": 17
        }
      ]
    },
    {
      "cell_type": "markdown",
      "source": [
        "**Cross Entropy Loss**\n",
        "$$ L = \\frac{1}{N} \\sum - y \\log(\\hat{y}) $$\n",
        "<br>\n",
        "두개의 확률 분포가 주어졌을 때 두 확률 분포의 유사성을 체크\n",
        "<br>\n",
        "활용: Cross Entropy를 minimize하는 방식으로 모델 최적화"
      ],
      "metadata": {
        "id": "oohfHQPUG-JR"
      }
    },
    {
      "cell_type": "markdown",
      "source": [
        "**Cross Entropy Loss (Low-level)**"
      ],
      "metadata": {
        "id": "llBV73iOIpKB"
      }
    },
    {
      "cell_type": "code",
      "source": [
        "z = torch.rand(3, 5, requires_grad=True)\n",
        "hypothesis = F.softmax(z, dim=1)\n",
        "print(hypothesis)"
      ],
      "metadata": {
        "colab": {
          "base_uri": "https://localhost:8080/"
        },
        "id": "mOsm1dkNH-mq",
        "outputId": "4043150c-898b-4328-cc7a-9e6ed9b73529"
      },
      "execution_count": 18,
      "outputs": [
        {
          "output_type": "stream",
          "name": "stdout",
          "text": [
            "tensor([[0.1586, 0.2454, 0.1100, 0.2147, 0.2712],\n",
            "        [0.2083, 0.2200, 0.1940, 0.1907, 0.1870],\n",
            "        [0.2361, 0.2674, 0.1744, 0.2034, 0.1187]], grad_fn=<SoftmaxBackward0>)\n"
          ]
        }
      ]
    },
    {
      "cell_type": "code",
      "source": [
        "y = torch.randint(5, (3,)).long()\n",
        "print(y)"
      ],
      "metadata": {
        "colab": {
          "base_uri": "https://localhost:8080/"
        },
        "id": "arJExkVvIGa5",
        "outputId": "08e9a027-d826-46aa-fbf2-081639c7e6a3"
      },
      "execution_count": 19,
      "outputs": [
        {
          "output_type": "stream",
          "name": "stdout",
          "text": [
            "tensor([4, 0, 4])\n"
          ]
        }
      ]
    },
    {
      "cell_type": "code",
      "source": [
        "y_one_hot = torch.zeros_like(hypothesis)\n",
        "y_one_hot.scatter_(1, y.unsqueeze(1), 1)"
      ],
      "metadata": {
        "colab": {
          "base_uri": "https://localhost:8080/"
        },
        "id": "7gWFXXuJI3DR",
        "outputId": "771e592c-3922-4643-e41c-293a4d872256"
      },
      "execution_count": 20,
      "outputs": [
        {
          "output_type": "execute_result",
          "data": {
            "text/plain": [
              "tensor([[0., 0., 0., 0., 1.],\n",
              "        [1., 0., 0., 0., 0.],\n",
              "        [0., 0., 0., 0., 1.]])"
            ]
          },
          "metadata": {},
          "execution_count": 20
        }
      ]
    },
    {
      "cell_type": "code",
      "source": [
        "cost = (y_one_hot * -torch.log(hypothesis)).sum(dim=1).mean()\n",
        "print(cost)"
      ],
      "metadata": {
        "colab": {
          "base_uri": "https://localhost:8080/"
        },
        "id": "I1Ng3tYMKK0B",
        "outputId": "148f54f7-c149-41e9-c730-f4228254b882"
      },
      "execution_count": 21,
      "outputs": [
        {
          "output_type": "stream",
          "name": "stdout",
          "text": [
            "tensor(1.6682, grad_fn=<MeanBackward0>)\n"
          ]
        }
      ]
    },
    {
      "cell_type": "markdown",
      "source": [
        "**Cross-entropy Loss with torch.nn.functional**"
      ],
      "metadata": {
        "id": "f_Ixv1pnKZlY"
      }
    },
    {
      "cell_type": "markdown",
      "source": [
        "<small> PyTorch has `F.log_softmax()` function </small>"
      ],
      "metadata": {
        "id": "pIVmJ1AhK8C5"
      }
    },
    {
      "cell_type": "code",
      "source": [
        "# Low level\n",
        "torch.log(F.softmax(z, dim=1))"
      ],
      "metadata": {
        "colab": {
          "base_uri": "https://localhost:8080/"
        },
        "id": "R8bQ1MRAKaVh",
        "outputId": "f8f7dd82-27ae-491b-9e48-594acc1a92a7"
      },
      "execution_count": 22,
      "outputs": [
        {
          "output_type": "execute_result",
          "data": {
            "text/plain": [
              "tensor([[-1.8411, -1.4048, -2.2069, -1.5385, -1.3050],\n",
              "        [-1.5687, -1.5143, -1.6399, -1.6570, -1.6767],\n",
              "        [-1.4436, -1.3189, -1.7466, -1.5925, -2.1311]], grad_fn=<LogBackward0>)"
            ]
          },
          "metadata": {},
          "execution_count": 22
        }
      ]
    },
    {
      "cell_type": "code",
      "source": [
        "# High level\n",
        "F.log_softmax(z, dim=1)"
      ],
      "metadata": {
        "colab": {
          "base_uri": "https://localhost:8080/"
        },
        "id": "MUwmrE9gKlIQ",
        "outputId": "195a6789-9a55-4865-c39b-a47484a850fb"
      },
      "execution_count": 23,
      "outputs": [
        {
          "output_type": "execute_result",
          "data": {
            "text/plain": [
              "tensor([[-1.8411, -1.4048, -2.2069, -1.5385, -1.3050],\n",
              "        [-1.5687, -1.5143, -1.6399, -1.6570, -1.6767],\n",
              "        [-1.4436, -1.3189, -1.7466, -1.5925, -2.1311]],\n",
              "       grad_fn=<LogSoftmaxBackward0>)"
            ]
          },
          "metadata": {},
          "execution_count": 23
        }
      ]
    },
    {
      "cell_type": "markdown",
      "source": [
        "<small> PyTorch also has `F.nll_loss()` function that computes the negative loss likelihood. </small>"
      ],
      "metadata": {
        "id": "o2AkmJxRLJXA"
      }
    },
    {
      "cell_type": "code",
      "source": [
        "# Low level\n",
        "(y_one_hot * -torch.log(F.softmax(z, dim=1))).sum(dim=1).mean()"
      ],
      "metadata": {
        "colab": {
          "base_uri": "https://localhost:8080/"
        },
        "id": "BUoe1HLiLOdY",
        "outputId": "f15ee735-2b34-4c15-91e4-424d81ad3ff5"
      },
      "execution_count": 24,
      "outputs": [
        {
          "output_type": "execute_result",
          "data": {
            "text/plain": [
              "tensor(1.6682, grad_fn=<MeanBackward0>)"
            ]
          },
          "metadata": {},
          "execution_count": 24
        }
      ]
    },
    {
      "cell_type": "code",
      "source": [
        "# High level\n",
        "F.nll_loss(F.log_softmax(z, dim=1), y)\n",
        "#NLL = Negative Log Likelihood"
      ],
      "metadata": {
        "colab": {
          "base_uri": "https://localhost:8080/"
        },
        "id": "9XZ7YFMPLQLQ",
        "outputId": "26f5ecd5-dd74-419b-d099-5c25f39032a3"
      },
      "execution_count": 25,
      "outputs": [
        {
          "output_type": "execute_result",
          "data": {
            "text/plain": [
              "tensor(1.6682, grad_fn=<NllLossBackward0>)"
            ]
          },
          "metadata": {},
          "execution_count": 25
        }
      ]
    },
    {
      "cell_type": "code",
      "source": [
        "F.cross_entropy(z, y)"
      ],
      "metadata": {
        "colab": {
          "base_uri": "https://localhost:8080/"
        },
        "id": "6JwLmgKzMBaC",
        "outputId": "c60632f0-9039-450b-cbdb-f1d2d25465f0"
      },
      "execution_count": 26,
      "outputs": [
        {
          "output_type": "execute_result",
          "data": {
            "text/plain": [
              "tensor(1.6682, grad_fn=<NllLossBackward0>)"
            ]
          },
          "metadata": {},
          "execution_count": 26
        }
      ]
    },
    {
      "cell_type": "markdown",
      "source": [
        "<small> PyTorch also has `F.cross_entropy` that combines `F.log_softmax()` and `F.nll_loss()`. </small>"
      ],
      "metadata": {
        "id": "dB_OLONGLrX4"
      }
    }
  ]
}