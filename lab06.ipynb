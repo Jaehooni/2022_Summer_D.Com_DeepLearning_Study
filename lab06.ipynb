{
  "nbformat": 4,
  "nbformat_minor": 0,
  "metadata": {
    "colab": {
      "name": "lab06.ipynb",
      "provenance": [],
      "collapsed_sections": [],
      "include_colab_link": true
    },
    "kernelspec": {
      "name": "python3",
      "display_name": "Python 3"
    }
  },
  "cells": [
    {
      "cell_type": "markdown",
      "metadata": {
        "id": "view-in-github",
        "colab_type": "text"
      },
      "source": [
        "<a href=\"https://colab.research.google.com/github/Jaehooni/2022_Summer_D.Com_DeepLearning_Study/blob/main/lab06.ipynb\" target=\"_parent\"><img src=\"https://colab.research.google.com/assets/colab-badge.svg\" alt=\"Open In Colab\"/></a>"
      ]
    },
    {
      "cell_type": "markdown",
      "source": [
        "**Imports**"
      ],
      "metadata": {
        "id": "sc1j35d5EvWI"
      }
    },
    {
      "cell_type": "code",
      "execution_count": 1,
      "metadata": {
        "id": "TCJwTpZQGi92"
      },
      "outputs": [],
      "source": [
        "import torch\n",
        "import torch.nn as nn\n",
        "import torch.nn.functional as F\n",
        "import torch.optim as optim"
      ]
    },
    {
      "cell_type": "markdown",
      "source": [
        "**Softmax**\n",
        "$$ P(class=i) = \\frac{e^i}{\\sum e^i} $$"
      ],
      "metadata": {
        "id": "6AQUY86SE5V2"
      }
    },
    {
      "cell_type": "code",
      "source": [
        "z = torch.FloatTensor([1, 2, 3])"
      ],
      "metadata": {
        "id": "dkK05qvCFPUR"
      },
      "execution_count": 2,
      "outputs": []
    },
    {
      "cell_type": "code",
      "source": [
        "hypothesis = F.softmax(z, dim=0)\n",
        "print(hypothesis)"
      ],
      "metadata": {
        "colab": {
          "base_uri": "https://localhost:8080/"
        },
        "id": "RGfEIZd1Ff3p",
        "outputId": "30e8077e-1279-4e5e-ff2d-069807e23fbf"
      },
      "execution_count": 3,
      "outputs": [
        {
          "output_type": "stream",
          "name": "stdout",
          "text": [
            "tensor([0.0900, 0.2447, 0.6652])\n"
          ]
        }
      ]
    },
    {
      "cell_type": "code",
      "source": [
        "hypothesis.sum()"
      ],
      "metadata": {
        "colab": {
          "base_uri": "https://localhost:8080/"
        },
        "id": "I2eRHnVpF_zK",
        "outputId": "a385a40b-0362-4623-e3c2-e3aa5ca5e553"
      },
      "execution_count": 4,
      "outputs": [
        {
          "output_type": "execute_result",
          "data": {
            "text/plain": [
              "tensor(1.)"
            ]
          },
          "metadata": {},
          "execution_count": 4
        }
      ]
    },
    {
      "cell_type": "markdown",
      "source": [
        "**Cross Entropy Loss**\n",
        "$$ L = \\frac{1}{N} \\sum - y \\log(\\hat{y}) $$\n",
        "<br>\n",
        "두개의 확률 분포가 주어졌을 때 두 확률 분포의 유사성을 체크\n",
        "<br>\n",
        "활용: Cross Entropy를 minimize하는 방식으로 모델 최적화"
      ],
      "metadata": {
        "id": "oohfHQPUG-JR"
      }
    },
    {
      "cell_type": "markdown",
      "source": [
        "**Cross Entropy Loss (Low-level)**"
      ],
      "metadata": {
        "id": "llBV73iOIpKB"
      }
    },
    {
      "cell_type": "code",
      "source": [
        "z = torch.rand(3, 5, requires_grad=True)\n",
        "hypothesis = F.softmax(z, dim=1)\n",
        "print(hypothesis)"
      ],
      "metadata": {
        "colab": {
          "base_uri": "https://localhost:8080/"
        },
        "id": "mOsm1dkNH-mq",
        "outputId": "c558d25a-0163-4e55-e079-d1e8bd9baecd"
      },
      "execution_count": 5,
      "outputs": [
        {
          "output_type": "stream",
          "name": "stdout",
          "text": [
            "tensor([[0.2310, 0.1295, 0.2556, 0.2505, 0.1334],\n",
            "        [0.1316, 0.2025, 0.1826, 0.2163, 0.2670],\n",
            "        [0.1377, 0.2026, 0.1353, 0.3415, 0.1829]], grad_fn=<SoftmaxBackward0>)\n"
          ]
        }
      ]
    },
    {
      "cell_type": "code",
      "source": [
        "y = torch.randint(5, (3,)).long()\n",
        "print(y)"
      ],
      "metadata": {
        "colab": {
          "base_uri": "https://localhost:8080/"
        },
        "id": "arJExkVvIGa5",
        "outputId": "dced9109-c668-4645-e6f9-21fee83b2350"
      },
      "execution_count": 6,
      "outputs": [
        {
          "output_type": "stream",
          "name": "stdout",
          "text": [
            "tensor([1, 0, 3])\n"
          ]
        }
      ]
    },
    {
      "cell_type": "code",
      "source": [
        "y_one_hot = torch.zeros_like(hypothesis)\n",
        "y_one_hot.scatter_(1, y.unsqueeze(1), 1)"
      ],
      "metadata": {
        "colab": {
          "base_uri": "https://localhost:8080/"
        },
        "id": "7gWFXXuJI3DR",
        "outputId": "3dcb17c4-a249-471f-983a-508b3aec9237"
      },
      "execution_count": 7,
      "outputs": [
        {
          "output_type": "execute_result",
          "data": {
            "text/plain": [
              "tensor([[0., 1., 0., 0., 0.],\n",
              "        [1., 0., 0., 0., 0.],\n",
              "        [0., 0., 0., 1., 0.]])"
            ]
          },
          "metadata": {},
          "execution_count": 7
        }
      ]
    },
    {
      "cell_type": "code",
      "source": [
        "cost = (y_one_hot * -torch.log(hypothesis)).sum(dim=1).mean()\n",
        "print(cost)"
      ],
      "metadata": {
        "colab": {
          "base_uri": "https://localhost:8080/"
        },
        "id": "I1Ng3tYMKK0B",
        "outputId": "d3cd68a2-c824-4ed0-e646-a63ff25059ed"
      },
      "execution_count": 8,
      "outputs": [
        {
          "output_type": "stream",
          "name": "stdout",
          "text": [
            "tensor(1.7155, grad_fn=<MeanBackward0>)\n"
          ]
        }
      ]
    },
    {
      "cell_type": "markdown",
      "source": [
        "**Cross-entropy Loss with torch.nn.functional**"
      ],
      "metadata": {
        "id": "f_Ixv1pnKZlY"
      }
    },
    {
      "cell_type": "markdown",
      "source": [
        "<small> PyTorch has `F.log_softmax()` function </small>"
      ],
      "metadata": {
        "id": "pIVmJ1AhK8C5"
      }
    },
    {
      "cell_type": "code",
      "source": [
        "# Low level\n",
        "torch.log(F.softmax(z, dim=1))"
      ],
      "metadata": {
        "colab": {
          "base_uri": "https://localhost:8080/"
        },
        "id": "R8bQ1MRAKaVh",
        "outputId": "c97ff5ec-73bc-46e6-bb4b-1eba07ed4e49"
      },
      "execution_count": 9,
      "outputs": [
        {
          "output_type": "execute_result",
          "data": {
            "text/plain": [
              "tensor([[-1.4655, -2.0440, -1.3642, -1.3842, -2.0143],\n",
              "        [-2.0280, -1.5969, -1.7003, -1.5311, -1.3206],\n",
              "        [-1.9826, -1.5966, -2.0002, -1.0744, -1.6989]], grad_fn=<LogBackward0>)"
            ]
          },
          "metadata": {},
          "execution_count": 9
        }
      ]
    },
    {
      "cell_type": "code",
      "source": [
        "# High level\n",
        "F.log_softmax(z, dim=1)"
      ],
      "metadata": {
        "colab": {
          "base_uri": "https://localhost:8080/"
        },
        "id": "MUwmrE9gKlIQ",
        "outputId": "348a54fa-579e-4f24-f0a3-1c886400e6dd"
      },
      "execution_count": 10,
      "outputs": [
        {
          "output_type": "execute_result",
          "data": {
            "text/plain": [
              "tensor([[-1.4655, -2.0440, -1.3642, -1.3842, -2.0143],\n",
              "        [-2.0280, -1.5969, -1.7003, -1.5311, -1.3206],\n",
              "        [-1.9826, -1.5966, -2.0002, -1.0744, -1.6989]],\n",
              "       grad_fn=<LogSoftmaxBackward0>)"
            ]
          },
          "metadata": {},
          "execution_count": 10
        }
      ]
    },
    {
      "cell_type": "markdown",
      "source": [
        "<small> PyTorch also has `F.nll_loss()` function that computes the negative loss likelihood. </small>"
      ],
      "metadata": {
        "id": "o2AkmJxRLJXA"
      }
    },
    {
      "cell_type": "code",
      "source": [
        "# Low level\n",
        "(y_one_hot * -torch.log(F.softmax(z, dim=1))).sum(dim=1).mean()"
      ],
      "metadata": {
        "colab": {
          "base_uri": "https://localhost:8080/"
        },
        "id": "BUoe1HLiLOdY",
        "outputId": "a474e58e-47ac-42b8-ede7-c61d75fe25d8"
      },
      "execution_count": 11,
      "outputs": [
        {
          "output_type": "execute_result",
          "data": {
            "text/plain": [
              "tensor(1.7155, grad_fn=<MeanBackward0>)"
            ]
          },
          "metadata": {},
          "execution_count": 11
        }
      ]
    },
    {
      "cell_type": "code",
      "source": [
        "# High level\n",
        "F.nll_loss(F.log_softmax(z, dim=1), y)\n",
        "#NLL = Negative Log Likelihood"
      ],
      "metadata": {
        "colab": {
          "base_uri": "https://localhost:8080/"
        },
        "id": "9XZ7YFMPLQLQ",
        "outputId": "4b0a2125-3fc9-40b7-e927-48b88717ee58"
      },
      "execution_count": 12,
      "outputs": [
        {
          "output_type": "execute_result",
          "data": {
            "text/plain": [
              "tensor(1.7155, grad_fn=<NllLossBackward0>)"
            ]
          },
          "metadata": {},
          "execution_count": 12
        }
      ]
    },
    {
      "cell_type": "markdown",
      "source": [
        "<small> PyTorch also has `F.cross_entropy` that combines `F.log_softmax()` and `F.nll_loss()`. </small>"
      ],
      "metadata": {
        "id": "dB_OLONGLrX4"
      }
    },
    {
      "cell_type": "code",
      "source": [
        "F.cross_entropy(z, y)"
      ],
      "metadata": {
        "colab": {
          "base_uri": "https://localhost:8080/"
        },
        "id": "6JwLmgKzMBaC",
        "outputId": "a476c9f3-7d94-4189-f4e3-b5674381db1b"
      },
      "execution_count": 13,
      "outputs": [
        {
          "output_type": "execute_result",
          "data": {
            "text/plain": [
              "tensor(1.7155, grad_fn=<NllLossBackward0>)"
            ]
          },
          "metadata": {},
          "execution_count": 13
        }
      ]
    },
    {
      "cell_type": "markdown",
      "source": [
        "**Training with Low-level Cross Entropy Loss**"
      ],
      "metadata": {
        "id": "aHFQmoPQlt5V"
      }
    },
    {
      "cell_type": "code",
      "source": [
        "x_train = [[1, 2, 1, 1],\n",
        "           [2, 1, 3, 2],\n",
        "           [3, 1, 3, 4],\n",
        "           [4, 1, 5, 5],\n",
        "           [1, 7, 5, 5],\n",
        "           [1, 2, 5, 6],\n",
        "           [1, 6, 6, 6],\n",
        "           [1, 7, 7, 7]]\n",
        "y_train = [2, 2, 2, 1, 1, 1, 0, 0]\n",
        "x_train = torch.FloatTensor(x_train)\n",
        "y_train = torch.LongTensor(y_train) "
      ],
      "metadata": {
        "id": "ZcyeAn3Slul1"
      },
      "execution_count": 14,
      "outputs": []
    },
    {
      "cell_type": "code",
      "source": [
        "# 모델 초기화\n",
        "W = torch.zeros((4, 3), requires_grad=True)\n",
        "b = torch.zeros(1, requires_grad=True)\n",
        "# optimizer 설정\n",
        "optimizer = optim.SGD([W, b], lr=0.1)\n",
        "\n",
        "nb_epochs = 1000\n",
        "for epoch in range(nb_epochs + 1):\n",
        "\n",
        "    # Cost 계산 (1)\n",
        "    hypothesis = F.softmax(x_train.matmul(W) + b, dim=1) # or .mm or @\n",
        "    y_one_hot = torch.zeros_like(hypothesis)\n",
        "    y_one_hot.scatter_(1, y_train.unsqueeze(1), 1)\n",
        "    cost = (y_one_hot * -torch.log(F.softmax(hypothesis, dim=1))).sum(dim=1).mean()\n",
        "\n",
        "    # cost로 H(x) 개선\n",
        "    optimizer.zero_grad()\n",
        "    cost.backward()\n",
        "    optimizer.step()\n",
        "\n",
        "    # 100번마다 로그 출력\n",
        "    if epoch % 100 == 0:\n",
        "        print('Epoch {:4d}/{} Cost: {:.6f}'.format(\n",
        "            epoch, nb_epochs, cost.item()\n",
        "        ))"
      ],
      "metadata": {
        "colab": {
          "base_uri": "https://localhost:8080/"
        },
        "id": "0Bxn-wT2mFEt",
        "outputId": "48c5dbd8-19d9-464a-d2e5-27c603d82cb8"
      },
      "execution_count": 15,
      "outputs": [
        {
          "output_type": "stream",
          "name": "stdout",
          "text": [
            "Epoch    0/1000 Cost: 1.098612\n",
            "Epoch  100/1000 Cost: 0.901535\n",
            "Epoch  200/1000 Cost: 0.839114\n",
            "Epoch  300/1000 Cost: 0.807826\n",
            "Epoch  400/1000 Cost: 0.788472\n",
            "Epoch  500/1000 Cost: 0.774822\n",
            "Epoch  600/1000 Cost: 0.764449\n",
            "Epoch  700/1000 Cost: 0.756191\n",
            "Epoch  800/1000 Cost: 0.749398\n",
            "Epoch  900/1000 Cost: 0.743671\n",
            "Epoch 1000/1000 Cost: 0.738749\n"
          ]
        }
      ]
    },
    {
      "cell_type": "markdown",
      "source": [
        "**Training with F.cross_entropy**"
      ],
      "metadata": {
        "id": "11bYlxLKmdNT"
      }
    },
    {
      "cell_type": "code",
      "source": [
        "# 모델 초기화\n",
        "W = torch.zeros((4, 3), requires_grad=True)\n",
        "b = torch.zeros(1, requires_grad=True)\n",
        "# optimizer 설정\n",
        "optimizer = optim.SGD([W, b], lr=0.1)\n",
        "\n",
        "nb_epochs = 1000\n",
        "for epoch in range(nb_epochs + 1):\n",
        "\n",
        "    # Cost 계산 (2)\n",
        "    z = x_train.matmul(W) + b # or .mm or @\n",
        "    cost = F.cross_entropy(z, y_train) # scatter 사용 X\n",
        "\n",
        "    # cost로 H(x) 개선\n",
        "    optimizer.zero_grad()\n",
        "    cost.backward()\n",
        "    optimizer.step()\n",
        "\n",
        "    # 100번마다 로그 출력\n",
        "    if epoch % 100 == 0:\n",
        "        print('Epoch {:4d}/{} Cost: {:.6f}'.format(\n",
        "            epoch, nb_epochs, cost.item()\n",
        "        ))"
      ],
      "metadata": {
        "colab": {
          "base_uri": "https://localhost:8080/"
        },
        "id": "wc6TbYeCmcp0",
        "outputId": "4af570de-1210-45bd-8e4f-477d08abd600"
      },
      "execution_count": 17,
      "outputs": [
        {
          "output_type": "stream",
          "name": "stdout",
          "text": [
            "Epoch    0/1000 Cost: 1.098612\n",
            "Epoch  100/1000 Cost: 0.761050\n",
            "Epoch  200/1000 Cost: 0.689991\n",
            "Epoch  300/1000 Cost: 0.643229\n",
            "Epoch  400/1000 Cost: 0.604117\n",
            "Epoch  500/1000 Cost: 0.568256\n",
            "Epoch  600/1000 Cost: 0.533922\n",
            "Epoch  700/1000 Cost: 0.500291\n",
            "Epoch  800/1000 Cost: 0.466908\n",
            "Epoch  900/1000 Cost: 0.433507\n",
            "Epoch 1000/1000 Cost: 0.399962\n"
          ]
        }
      ]
    },
    {
      "cell_type": "markdown",
      "source": [
        "**High-level Implementation with nn.Module**"
      ],
      "metadata": {
        "id": "r9e69iotmoKM"
      }
    },
    {
      "cell_type": "code",
      "source": [
        "class SoftmaxClassifierModel(nn.Module):\n",
        "    def __init__(self):\n",
        "        super().__init__()\n",
        "        self.linear = nn.Linear(4, 3) # Output이 3!\n",
        "\n",
        "    def forward(self, x):\n",
        "        return self.linear(x)"
      ],
      "metadata": {
        "id": "ffaKG6ovmpAr"
      },
      "execution_count": 18,
      "outputs": []
    },
    {
      "cell_type": "code",
      "source": [
        "model = SoftmaxClassifierModel()"
      ],
      "metadata": {
        "id": "RXldCd4NmuTs"
      },
      "execution_count": 19,
      "outputs": []
    },
    {
      "cell_type": "code",
      "source": [
        "# optimizer 설정\n",
        "optimizer = optim.SGD(model.parameters(), lr=0.1)\n",
        "\n",
        "nb_epochs = 1000\n",
        "for epoch in range(nb_epochs + 1):\n",
        "\n",
        "    # H(x) 계산\n",
        "    prediction = model(x_train)\n",
        "\n",
        "    # cost 계산\n",
        "    cost = F.cross_entropy(prediction, y_train)\n",
        "\n",
        "    # cost로 H(x) 개선\n",
        "    optimizer.zero_grad()\n",
        "    cost.backward()\n",
        "    optimizer.step()\n",
        "    \n",
        "    # 20번마다 로그 출력\n",
        "    if epoch % 100 == 0:\n",
        "        print('Epoch {:4d}/{} Cost: {:.6f}'.format(\n",
        "            epoch, nb_epochs, cost.item()\n",
        "        ))"
      ],
      "metadata": {
        "colab": {
          "base_uri": "https://localhost:8080/"
        },
        "id": "kHCXwWk9mxGU",
        "outputId": "71dbc7d1-efba-4a11-8a76-d3f65b087bdd"
      },
      "execution_count": 20,
      "outputs": [
        {
          "output_type": "stream",
          "name": "stdout",
          "text": [
            "Epoch    0/1000 Cost: 5.977555\n",
            "Epoch  100/1000 Cost: 0.631481\n",
            "Epoch  200/1000 Cost: 0.549811\n",
            "Epoch  300/1000 Cost: 0.496067\n",
            "Epoch  400/1000 Cost: 0.452249\n",
            "Epoch  500/1000 Cost: 0.413131\n",
            "Epoch  600/1000 Cost: 0.376311\n",
            "Epoch  700/1000 Cost: 0.340259\n",
            "Epoch  800/1000 Cost: 0.303876\n",
            "Epoch  900/1000 Cost: 0.267380\n",
            "Epoch 1000/1000 Cost: 0.241519\n"
          ]
        }
      ]
    },
    {
      "cell_type": "markdown",
      "source": [
        "딥러닝을 할때 일반적으로 Classification을 하기 위해서는 `Cross Entropy`와 `Softmax`를 사용함\n",
        "<br>\n",
        "<br>\n",
        "하지만 Binary Classfication일 경우에는 logistic regression에서 사용한 loss 함수\n",
        "<br>\n",
        "=> `BCE(Binary Cross Entrophy)`와 `sigmoid`를 사용\n"
      ],
      "metadata": {
        "id": "CJhvWOoinPhU"
      }
    }
  ]
}