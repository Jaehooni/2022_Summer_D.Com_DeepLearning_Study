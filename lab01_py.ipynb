{
  "nbformat": 4,
  "nbformat_minor": 0,
  "metadata": {
    "colab": {
      "name": "lab01.py",
      "provenance": [],
      "collapsed_sections": [],
      "authorship_tag": "ABX9TyOeS5LIDWjNG8FZsuJRUXpt",
      "include_colab_link": true
    },
    "kernelspec": {
      "name": "python3",
      "display_name": "Python 3"
    },
    "language_info": {
      "name": "python"
    }
  },
  "cells": [
    {
      "cell_type": "markdown",
      "metadata": {
        "id": "view-in-github",
        "colab_type": "text"
      },
      "source": [
        "<a href=\"https://colab.research.google.com/github/Jaehooni/2022_Summer_D.Com_DeepLearning_Study/blob/main/lab01_py.ipynb\" target=\"_parent\"><img src=\"https://colab.research.google.com/assets/colab-badge.svg\" alt=\"Open In Colab\"/></a>"
      ]
    },
    {
      "cell_type": "markdown",
      "source": [
        "**Import**"
      ],
      "metadata": {
        "id": "77vcLABPLiVG"
      }
    },
    {
      "cell_type": "code",
      "execution_count": 2,
      "metadata": {
        "id": "4VPv7DfAO2HA"
      },
      "outputs": [],
      "source": [
        "import numpy as np\n",
        "import torch"
      ]
    },
    {
      "cell_type": "markdown",
      "source": [
        "**1D Array with NumPy**"
      ],
      "metadata": {
        "id": "IjnsmUn9LfZ4"
      }
    },
    {
      "cell_type": "code",
      "source": [
        "t = np.array([0., 1., 2., 3., 4., 5., 6.])\n",
        "print(t)"
      ],
      "metadata": {
        "colab": {
          "base_uri": "https://localhost:8080/"
        },
        "id": "lN9ucWi8PGi2",
        "outputId": "2941add2-b43f-4b7f-eef7-53a544305001"
      },
      "execution_count": 3,
      "outputs": [
        {
          "output_type": "stream",
          "name": "stdout",
          "text": [
            "[0. 1. 2. 3. 4. 5. 6.]\n"
          ]
        }
      ]
    },
    {
      "cell_type": "code",
      "source": [
        "print('Rank of t: ',t.ndim)\n",
        "print('Shape of t: ', t.shape)"
      ],
      "metadata": {
        "colab": {
          "base_uri": "https://localhost:8080/"
        },
        "id": "HPA8TD7kPP80",
        "outputId": "e24eb983-9abe-4c35-fab6-90cee2b52f5f"
      },
      "execution_count": 4,
      "outputs": [
        {
          "output_type": "stream",
          "name": "stdout",
          "text": [
            "Rank of t:  1\n",
            "Shape of t:  (7,)\n"
          ]
        }
      ]
    },
    {
      "cell_type": "code",
      "source": [
        "print('t[0] t[1] t[-1] = ', t[0], t[1], t[-1])\n",
        "print('t[2:5] t[4:-1] = ', t[2:5], t[4:-1])\n",
        "print('t[:2], t[3:] = ', t[:2], t[3:])"
      ],
      "metadata": {
        "colab": {
          "base_uri": "https://localhost:8080/"
        },
        "id": "jjVd-ZqUPfgF",
        "outputId": "e72516e9-a584-4ac7-8657-f3e20b45685c"
      },
      "execution_count": 5,
      "outputs": [
        {
          "output_type": "stream",
          "name": "stdout",
          "text": [
            "t[0] t[1] t[-1] =  0.0 1.0 6.0\n",
            "t[2:5] t[4:-1] =  [2. 3. 4.] [4. 5.]\n",
            "t[:2], t[3:] =  [0. 1.] [3. 4. 5. 6.]\n"
          ]
        }
      ]
    },
    {
      "cell_type": "markdown",
      "source": [
        "**2D Array with NumPy**"
      ],
      "metadata": {
        "id": "497iI4wLLZXA"
      }
    },
    {
      "cell_type": "code",
      "source": [
        "t = np.array([[1.,2.,3.], [4., 5., 6.], [7.,8., 9.], [10., 11., 12.]])\n",
        "print(t)"
      ],
      "metadata": {
        "colab": {
          "base_uri": "https://localhost:8080/"
        },
        "id": "lamMuSOgP9hH",
        "outputId": "1d51bf1d-eb5d-46d4-8d12-96de6fa83864"
      },
      "execution_count": 6,
      "outputs": [
        {
          "output_type": "stream",
          "name": "stdout",
          "text": [
            "[[ 1.  2.  3.]\n",
            " [ 4.  5.  6.]\n",
            " [ 7.  8.  9.]\n",
            " [10. 11. 12.]]\n"
          ]
        }
      ]
    },
    {
      "cell_type": "code",
      "source": [
        "print('Rank of t: ', t.ndim)\n",
        "print('Shape of t: ', t.shape)"
      ],
      "metadata": {
        "colab": {
          "base_uri": "https://localhost:8080/"
        },
        "id": "qx6BhzumQPV3",
        "outputId": "00cac62d-c110-464e-bf0b-29e8c40d585a"
      },
      "execution_count": 7,
      "outputs": [
        {
          "output_type": "stream",
          "name": "stdout",
          "text": [
            "Rank of t:  2\n",
            "Shape of t:  (4, 3)\n"
          ]
        }
      ]
    },
    {
      "cell_type": "markdown",
      "source": [
        "**1D Array with PyTorch**"
      ],
      "metadata": {
        "id": "Pn0Iv7hnLRsf"
      }
    },
    {
      "cell_type": "code",
      "source": [
        "t = torch.FloatTensor([0., 1., 2., 3., 4., 5., 6.])\n",
        "print(t)"
      ],
      "metadata": {
        "colab": {
          "base_uri": "https://localhost:8080/"
        },
        "id": "N2zbMVZ0QYkN",
        "outputId": "22e50af4-1f79-4470-a227-e9e760813454"
      },
      "execution_count": 8,
      "outputs": [
        {
          "output_type": "stream",
          "name": "stdout",
          "text": [
            "tensor([0., 1., 2., 3., 4., 5., 6.])\n"
          ]
        }
      ]
    },
    {
      "cell_type": "code",
      "source": [
        "print(t.dim())\n",
        "print(t.shape)\n",
        "print(t.size())\n",
        "print(t[0], t[1], t[-1])\n",
        "print(t[2:5], t[4:-1])\n",
        "print(t[:2], t[3:])"
      ],
      "metadata": {
        "colab": {
          "base_uri": "https://localhost:8080/"
        },
        "id": "a9NVMQ2KQnsO",
        "outputId": "27c8f672-4f7f-472b-c1a3-d8b6a234ddb5"
      },
      "execution_count": 9,
      "outputs": [
        {
          "output_type": "stream",
          "name": "stdout",
          "text": [
            "1\n",
            "torch.Size([7])\n",
            "torch.Size([7])\n",
            "tensor(0.) tensor(1.) tensor(6.)\n",
            "tensor([2., 3., 4.]) tensor([4., 5.])\n",
            "tensor([0., 1.]) tensor([3., 4., 5., 6.])\n"
          ]
        }
      ]
    },
    {
      "cell_type": "markdown",
      "source": [
        "**2D Array with PyTorch**"
      ],
      "metadata": {
        "id": "lKcfNgTlLM5w"
      }
    },
    {
      "cell_type": "code",
      "source": [
        "t = torch.FloatTensor([[1.,2.,3.], \n",
        "                       [4., 5., 6.], \n",
        "                       [7.,8., 9.], \n",
        "                       [10., 11., 12.]])\n",
        "print(t)"
      ],
      "metadata": {
        "colab": {
          "base_uri": "https://localhost:8080/"
        },
        "id": "8RbA5zhOQ_7u",
        "outputId": "dbed297a-6275-4fce-9877-06f3393a1f40"
      },
      "execution_count": 10,
      "outputs": [
        {
          "output_type": "stream",
          "name": "stdout",
          "text": [
            "tensor([[ 1.,  2.,  3.],\n",
            "        [ 4.,  5.,  6.],\n",
            "        [ 7.,  8.,  9.],\n",
            "        [10., 11., 12.]])\n"
          ]
        }
      ]
    },
    {
      "cell_type": "code",
      "source": [
        "print(t.dim())\n",
        "print(t.size())\n",
        "print(t[:, 1])\n",
        "print(t[:, 1].size())\n",
        "print(t[:, :-1])"
      ],
      "metadata": {
        "colab": {
          "base_uri": "https://localhost:8080/"
        },
        "id": "yOQrLW_zRJUN",
        "outputId": "678f652e-c535-42f2-b552-72088c1ee094"
      },
      "execution_count": 11,
      "outputs": [
        {
          "output_type": "stream",
          "name": "stdout",
          "text": [
            "2\n",
            "torch.Size([4, 3])\n",
            "tensor([ 2.,  5.,  8., 11.])\n",
            "torch.Size([4])\n",
            "tensor([[ 1.,  2.],\n",
            "        [ 4.,  5.],\n",
            "        [ 7.,  8.],\n",
            "        [10., 11.]])\n"
          ]
        }
      ]
    },
    {
      "cell_type": "markdown",
      "source": [
        "**Broadcasting**"
      ],
      "metadata": {
        "id": "mebPdimOKNiO"
      }
    },
    {
      "cell_type": "code",
      "source": [
        "m1 = torch.FloatTensor([[3,3]])\n",
        "m2 = torch.FloatTensor([[2,2]])\n",
        "print(m1 + m2)"
      ],
      "metadata": {
        "colab": {
          "base_uri": "https://localhost:8080/"
        },
        "id": "16aRlnZaRxSd",
        "outputId": "689f1766-8fcf-40bc-cdcf-d94357e7dd76"
      },
      "execution_count": 12,
      "outputs": [
        {
          "output_type": "stream",
          "name": "stdout",
          "text": [
            "tensor([[5., 5.]])\n"
          ]
        }
      ]
    },
    {
      "cell_type": "code",
      "source": [
        "m1 = torch.FloatTensor([[1,2]])\n",
        "m2 = torch.FloatTensor([3])\n",
        "print(m1 + m2)"
      ],
      "metadata": {
        "colab": {
          "base_uri": "https://localhost:8080/"
        },
        "id": "81CfH9Y3R9dF",
        "outputId": "f5a9eb98-43f1-44c8-fed2-6fabfbf63ccd"
      },
      "execution_count": 13,
      "outputs": [
        {
          "output_type": "stream",
          "name": "stdout",
          "text": [
            "tensor([[4., 5.]])\n"
          ]
        }
      ]
    },
    {
      "cell_type": "code",
      "source": [
        "m1 = torch.FloatTensor([[1, 2]])\n",
        "m2 = torch.FloatTensor([[3], [4]])\n",
        "print(m1 + m2)"
      ],
      "metadata": {
        "colab": {
          "base_uri": "https://localhost:8080/"
        },
        "id": "GoQKG0HUSW--",
        "outputId": "be906a78-ee93-4cba-be62-96fe31761ae3"
      },
      "execution_count": 14,
      "outputs": [
        {
          "output_type": "stream",
          "name": "stdout",
          "text": [
            "tensor([[4., 5.],\n",
            "        [5., 6.]])\n"
          ]
        }
      ]
    },
    {
      "cell_type": "markdown",
      "source": [
        "**Multiplication vs Matrix Multiplication**"
      ],
      "metadata": {
        "id": "9sNpekBbKAQ3"
      }
    },
    {
      "cell_type": "code",
      "source": [
        "print('\\n---------')\n",
        "print('Mul vs Matmul')\n",
        "print('---------')\n",
        "m1 = torch.FloatTensor([[1,2], [3,4]])\n",
        "m2 = torch.FloatTensor([[1], [2]])\n",
        "print('Shape of Matrix 1: ', m1.shape)\n",
        "print('Shape of Matrix 2: ', m2.shape)\n",
        "print(m1.matmul(m2))\n",
        "\n",
        "m1 = torch.FloatTensor([[1,2], [3,4]])\n",
        "m2 = torch.FloatTensor([[1], [2]])\n",
        "print('Shape of Matrix 1: ', m1.shape)\n",
        "print('Shape of Matrix 2: ', m2.shape)\n",
        "print(m1 * m2)\n",
        "print(m1.mul(m2))"
      ],
      "metadata": {
        "colab": {
          "base_uri": "https://localhost:8080/"
        },
        "id": "dZChBjphSzqN",
        "outputId": "4cce6d95-3084-41c6-897e-602750ffc41f"
      },
      "execution_count": 15,
      "outputs": [
        {
          "output_type": "stream",
          "name": "stdout",
          "text": [
            "\n",
            "---------\n",
            "Mul vs Matmul\n",
            "---------\n",
            "Shape of Matrix 1:  torch.Size([2, 2])\n",
            "Shape of Matrix 2:  torch.Size([2, 1])\n",
            "tensor([[ 5.],\n",
            "        [11.]])\n",
            "Shape of Matrix 1:  torch.Size([2, 2])\n",
            "Shape of Matrix 2:  torch.Size([2, 1])\n",
            "tensor([[1., 2.],\n",
            "        [6., 8.]])\n",
            "tensor([[1., 2.],\n",
            "        [6., 8.]])\n"
          ]
        }
      ]
    },
    {
      "cell_type": "markdown",
      "source": [
        "**Mean**"
      ],
      "metadata": {
        "id": "X4QBt_FxJ8Oo"
      }
    },
    {
      "cell_type": "code",
      "source": [
        "t = torch.FloatTensor([1, 2])\n",
        "print(t.mean())"
      ],
      "metadata": {
        "colab": {
          "base_uri": "https://localhost:8080/"
        },
        "id": "9IS61-OYUWcl",
        "outputId": "301b5a91-1b08-4098-c9c5-72b21f3f83d4"
      },
      "execution_count": 16,
      "outputs": [
        {
          "output_type": "stream",
          "name": "stdout",
          "text": [
            "tensor(1.5000)\n"
          ]
        }
      ]
    },
    {
      "cell_type": "code",
      "source": [
        "#can't use mean() on integers\n",
        "t = torch.LongTensor([1,2])\n",
        "try:\n",
        "  print(t.mean())\n",
        "except Exception as exc:\n",
        "  print(exc)"
      ],
      "metadata": {
        "colab": {
          "base_uri": "https://localhost:8080/"
        },
        "id": "vuK5MAFWUlKr",
        "outputId": "8f35f2ff-8d80-4e4c-8fa5-3c3f789c0d86"
      },
      "execution_count": 17,
      "outputs": [
        {
          "output_type": "stream",
          "name": "stdout",
          "text": [
            "mean(): input dtype should be either floating point or complex dtypes. Got Long instead.\n"
          ]
        }
      ]
    },
    {
      "cell_type": "code",
      "source": [
        "t = torch.FloatTensor([[1,2], [3,4]])\n",
        "print(t)"
      ],
      "metadata": {
        "colab": {
          "base_uri": "https://localhost:8080/"
        },
        "id": "xzP9OHbFVJWc",
        "outputId": "5390a8ad-b769-4e9a-f2b3-f1bca88e4f3e"
      },
      "execution_count": 18,
      "outputs": [
        {
          "output_type": "stream",
          "name": "stdout",
          "text": [
            "tensor([[1., 2.],\n",
            "        [3., 4.]])\n"
          ]
        }
      ]
    },
    {
      "cell_type": "code",
      "source": [
        "print(t.mean())\n",
        "print(t.mean(dim=0))\n",
        "print(t.mean(dim=1))\n",
        "print(t.mean(dim=-1))"
      ],
      "metadata": {
        "colab": {
          "base_uri": "https://localhost:8080/"
        },
        "id": "gpgrqq5DVRqc",
        "outputId": "c0476669-be0e-43a3-d657-c12ba989ea02"
      },
      "execution_count": 19,
      "outputs": [
        {
          "output_type": "stream",
          "name": "stdout",
          "text": [
            "tensor(2.5000)\n",
            "tensor([2., 3.])\n",
            "tensor([1.5000, 3.5000])\n",
            "tensor([1.5000, 3.5000])\n"
          ]
        }
      ]
    },
    {
      "cell_type": "markdown",
      "source": [
        "**Sum**"
      ],
      "metadata": {
        "id": "9fgLN3_lKw4o"
      }
    },
    {
      "cell_type": "code",
      "source": [
        "t = torch.FloatTensor([[1,2], [3,4]])\n",
        "print(t)"
      ],
      "metadata": {
        "colab": {
          "base_uri": "https://localhost:8080/"
        },
        "id": "xtQbjt0lKyrh",
        "outputId": "38088c8d-3b21-4b59-ca4c-bb0169028847"
      },
      "execution_count": 20,
      "outputs": [
        {
          "output_type": "stream",
          "name": "stdout",
          "text": [
            "tensor([[1., 2.],\n",
            "        [3., 4.]])\n"
          ]
        }
      ]
    },
    {
      "cell_type": "code",
      "source": [
        "print(t.sum())\n",
        "print(t.sum(dim = 0))\n",
        "print(t.sum(dim = 1))\n",
        "print(t.sum(dim = -1))"
      ],
      "metadata": {
        "colab": {
          "base_uri": "https://localhost:8080/"
        },
        "id": "USC0drH7K0l4",
        "outputId": "bb1fe8bc-6a65-4b01-ebdf-e2f3664c8638"
      },
      "execution_count": 21,
      "outputs": [
        {
          "output_type": "stream",
          "name": "stdout",
          "text": [
            "tensor(10.)\n",
            "tensor([4., 6.])\n",
            "tensor([3., 7.])\n",
            "tensor([3., 7.])\n"
          ]
        }
      ]
    },
    {
      "cell_type": "markdown",
      "source": [
        "**MAX and Argmax**"
      ],
      "metadata": {
        "id": "wpksfBVMJx-5"
      }
    },
    {
      "cell_type": "code",
      "source": [
        "t = torch.FloatTensor([[1,2], [3,4],[5,6]])\n",
        "print(t)"
      ],
      "metadata": {
        "colab": {
          "base_uri": "https://localhost:8080/"
        },
        "id": "VWKAQt6dWLdE",
        "outputId": "44312da2-a4b6-4a32-96d1-98be207a830e"
      },
      "execution_count": 22,
      "outputs": [
        {
          "output_type": "stream",
          "name": "stdout",
          "text": [
            "tensor([[1., 2.],\n",
            "        [3., 4.],\n",
            "        [5., 6.]])\n"
          ]
        }
      ]
    },
    {
      "cell_type": "code",
      "source": [
        "print(t.max())"
      ],
      "metadata": {
        "colab": {
          "base_uri": "https://localhost:8080/"
        },
        "id": "h0EyIXw-WQA0",
        "outputId": "0154adca-30e0-4fe7-ca8e-9fb7a39722c3"
      },
      "execution_count": 23,
      "outputs": [
        {
          "output_type": "stream",
          "name": "stdout",
          "text": [
            "tensor(6.)\n"
          ]
        }
      ]
    },
    {
      "cell_type": "code",
      "source": [
        "# Max: 최대 값\n",
        "# Argmax: 최대 값이 되는 인덱스의 위치\n",
        "print(t.max(dim=0))\n",
        "print('Max:', t.max(dim=0)[0])\n",
        "print('ArgMax:', t.max(dim=0)[1])"
      ],
      "metadata": {
        "colab": {
          "base_uri": "https://localhost:8080/"
        },
        "id": "2NGyasMPWTYk",
        "outputId": "6d6d8b1f-c8e2-41bf-e0ce-8da4da476a76"
      },
      "execution_count": 24,
      "outputs": [
        {
          "output_type": "stream",
          "name": "stdout",
          "text": [
            "torch.return_types.max(\n",
            "values=tensor([5., 6.]),\n",
            "indices=tensor([2, 2]))\n",
            "Max: tensor([5., 6.])\n",
            "ArgMax: tensor([2, 2])\n"
          ]
        }
      ]
    },
    {
      "cell_type": "markdown",
      "source": [
        "**View**"
      ],
      "metadata": {
        "id": "NDhT44-hJiFA"
      }
    },
    {
      "cell_type": "code",
      "source": [
        "t = np.array([[[0,1,2],\n",
        "               [3,4,5]],\n",
        "              [[6,7,8],\n",
        "               [9,10,11]]])\n",
        "ft = torch.FloatTensor(t)\n",
        "print(ft.shape)"
      ],
      "metadata": {
        "colab": {
          "base_uri": "https://localhost:8080/"
        },
        "id": "VCD0V1jJImmw",
        "outputId": "2db85618-c96f-4918-ea97-fe498ae633c2"
      },
      "execution_count": 25,
      "outputs": [
        {
          "output_type": "stream",
          "name": "stdout",
          "text": [
            "torch.Size([2, 2, 3])\n"
          ]
        }
      ]
    },
    {
      "cell_type": "code",
      "source": [
        "print(ft.view(-1,3))\n",
        "# (2, 2, 3) => (2 * 2, 3)\n",
        "print(ft.view([-1,3]).shape)"
      ],
      "metadata": {
        "colab": {
          "base_uri": "https://localhost:8080/"
        },
        "id": "ePBdAeA4Jf7A",
        "outputId": "cd2efbc2-2e53-4e52-b7c3-28564b2447c9"
      },
      "execution_count": 26,
      "outputs": [
        {
          "output_type": "stream",
          "name": "stdout",
          "text": [
            "tensor([[ 0.,  1.,  2.],\n",
            "        [ 3.,  4.,  5.],\n",
            "        [ 6.,  7.,  8.],\n",
            "        [ 9., 10., 11.]])\n",
            "torch.Size([4, 3])\n"
          ]
        }
      ]
    },
    {
      "cell_type": "code",
      "source": [
        "print(ft.view([-1, 1, 3]))\n",
        "#(2, 2, 3) => (2 * 2, 1, 3)\n",
        "print(ft.view([-1, 1, 3]).shape)"
      ],
      "metadata": {
        "colab": {
          "base_uri": "https://localhost:8080/"
        },
        "id": "fh40XgP1MJhg",
        "outputId": "96373531-cb3e-4ef1-dcbb-1c2d6d26b2b6"
      },
      "execution_count": 27,
      "outputs": [
        {
          "output_type": "stream",
          "name": "stdout",
          "text": [
            "tensor([[[ 0.,  1.,  2.]],\n",
            "\n",
            "        [[ 3.,  4.,  5.]],\n",
            "\n",
            "        [[ 6.,  7.,  8.]],\n",
            "\n",
            "        [[ 9., 10., 11.]]])\n",
            "torch.Size([4, 1, 3])\n"
          ]
        }
      ]
    },
    {
      "cell_type": "markdown",
      "source": [
        "**Squeeze**"
      ],
      "metadata": {
        "id": "CJ0Fsus-MqaA"
      }
    },
    {
      "cell_type": "code",
      "source": [
        "ft = torch.FloatTensor([[0], [1], [2]])\n",
        "print(ft)\n",
        "print(ft.shape)"
      ],
      "metadata": {
        "colab": {
          "base_uri": "https://localhost:8080/"
        },
        "id": "tQgKasqtNagQ",
        "outputId": "ff505a1f-fa98-4520-a131-668c2aeed7af"
      },
      "execution_count": 28,
      "outputs": [
        {
          "output_type": "stream",
          "name": "stdout",
          "text": [
            "tensor([[0.],\n",
            "        [1.],\n",
            "        [2.]])\n",
            "torch.Size([3, 1])\n"
          ]
        }
      ]
    },
    {
      "cell_type": "code",
      "source": [
        "print(ft.squeeze())\n",
        "print(ft.squeeze().shape)\n",
        "#Squeeze는 element가 1밖에 안남아있는 곳을 없앰"
      ],
      "metadata": {
        "colab": {
          "base_uri": "https://localhost:8080/"
        },
        "id": "GvqvXK5JNxvI",
        "outputId": "889e9e65-a337-482a-9d46-d141541ea72f"
      },
      "execution_count": 29,
      "outputs": [
        {
          "output_type": "stream",
          "name": "stdout",
          "text": [
            "tensor([0., 1., 2.])\n",
            "torch.Size([3])\n"
          ]
        }
      ]
    },
    {
      "cell_type": "markdown",
      "source": [
        "**Unsqueeze**"
      ],
      "metadata": {
        "id": "4nXhYAjMOXqH"
      }
    },
    {
      "cell_type": "code",
      "source": [
        "ft = torch.Tensor([0, 1, 2])\n",
        "print(ft.shape)"
      ],
      "metadata": {
        "colab": {
          "base_uri": "https://localhost:8080/"
        },
        "id": "0KVZ2El8OWgo",
        "outputId": "659de9f1-38ce-4c9c-c64c-d77684234572"
      },
      "execution_count": 30,
      "outputs": [
        {
          "output_type": "stream",
          "name": "stdout",
          "text": [
            "torch.Size([3])\n"
          ]
        }
      ]
    },
    {
      "cell_type": "code",
      "source": [
        "print(ft.unsqueeze(0))\n",
        "print(ft.unsqueeze(0).shape)"
      ],
      "metadata": {
        "colab": {
          "base_uri": "https://localhost:8080/"
        },
        "id": "WVHuCpoMOfsI",
        "outputId": "1a09660b-436f-4338-d567-72401d32aa10"
      },
      "execution_count": 31,
      "outputs": [
        {
          "output_type": "stream",
          "name": "stdout",
          "text": [
            "tensor([[0., 1., 2.]])\n",
            "torch.Size([1, 3])\n"
          ]
        }
      ]
    },
    {
      "cell_type": "code",
      "source": [
        "print(ft.view(1, -1))\n",
        "print(ft.view(1, -1).shape)"
      ],
      "metadata": {
        "colab": {
          "base_uri": "https://localhost:8080/"
        },
        "id": "NneQJVVzOnkn",
        "outputId": "35645bba-24e6-4961-a886-06541d58c474"
      },
      "execution_count": 32,
      "outputs": [
        {
          "output_type": "stream",
          "name": "stdout",
          "text": [
            "tensor([[0., 1., 2.]])\n",
            "torch.Size([1, 3])\n"
          ]
        }
      ]
    },
    {
      "cell_type": "code",
      "source": [
        "print(ft.unsqueeze(1))\n",
        "print(ft.unsqueeze(1).shape)"
      ],
      "metadata": {
        "colab": {
          "base_uri": "https://localhost:8080/"
        },
        "id": "0rG5p0wXOrr_",
        "outputId": "926ac933-eb3f-4d83-9e2b-5cad00eef6ab"
      },
      "execution_count": 33,
      "outputs": [
        {
          "output_type": "stream",
          "name": "stdout",
          "text": [
            "tensor([[0.],\n",
            "        [1.],\n",
            "        [2.]])\n",
            "torch.Size([3, 1])\n"
          ]
        }
      ]
    },
    {
      "cell_type": "markdown",
      "source": [
        "**Type Casting**"
      ],
      "metadata": {
        "id": "3Fb-tcJOPKjQ"
      }
    },
    {
      "cell_type": "code",
      "source": [
        "lt = torch.LongTensor([1, 2, 3, 4])\n",
        "print(lt)"
      ],
      "metadata": {
        "colab": {
          "base_uri": "https://localhost:8080/"
        },
        "id": "bb0t8bWfPDhA",
        "outputId": "42793060-8fc9-4b41-fc15-64d7799454bb"
      },
      "execution_count": 34,
      "outputs": [
        {
          "output_type": "stream",
          "name": "stdout",
          "text": [
            "tensor([1, 2, 3, 4])\n"
          ]
        }
      ]
    },
    {
      "cell_type": "code",
      "source": [
        "print(lt.float())"
      ],
      "metadata": {
        "colab": {
          "base_uri": "https://localhost:8080/"
        },
        "id": "1h_TtmQqPQ64",
        "outputId": "64ececf0-1180-4dc5-ecd0-0eed9cd9a1de"
      },
      "execution_count": 35,
      "outputs": [
        {
          "output_type": "stream",
          "name": "stdout",
          "text": [
            "tensor([1., 2., 3., 4.])\n"
          ]
        }
      ]
    },
    {
      "cell_type": "code",
      "source": [
        "bt = torch.ByteTensor([True, False, False, True])\n",
        "print(bt)"
      ],
      "metadata": {
        "colab": {
          "base_uri": "https://localhost:8080/"
        },
        "id": "nBMHsIDOPTiA",
        "outputId": "dbb6e61d-6c54-4c51-d12c-cf0157fa6d18"
      },
      "execution_count": 36,
      "outputs": [
        {
          "output_type": "stream",
          "name": "stdout",
          "text": [
            "tensor([1, 0, 0, 1], dtype=torch.uint8)\n"
          ]
        }
      ]
    },
    {
      "cell_type": "code",
      "source": [
        "print(bt.long())\n",
        "print(bt.float())"
      ],
      "metadata": {
        "colab": {
          "base_uri": "https://localhost:8080/"
        },
        "id": "WNdoeqPiPdim",
        "outputId": "2f1e19d9-3e6b-4553-9aa4-ae72c15ef341"
      },
      "execution_count": 37,
      "outputs": [
        {
          "output_type": "stream",
          "name": "stdout",
          "text": [
            "tensor([1, 0, 0, 1])\n",
            "tensor([1., 0., 0., 1.])\n"
          ]
        }
      ]
    },
    {
      "cell_type": "markdown",
      "source": [
        "**Concatnation**"
      ],
      "metadata": {
        "id": "jdWWXHAJP5EX"
      }
    },
    {
      "cell_type": "code",
      "source": [
        "x = torch.FloatTensor([[1, 2], [3, 4]])\n",
        "y = torch.FloatTensor([[5, 6], [7, 8]])"
      ],
      "metadata": {
        "id": "-cbVPxVRP70Y"
      },
      "execution_count": 38,
      "outputs": []
    },
    {
      "cell_type": "code",
      "source": [
        "print(torch.cat([x, y], dim=0))\n",
        "print(torch.cat([x, y], dim=1))"
      ],
      "metadata": {
        "colab": {
          "base_uri": "https://localhost:8080/"
        },
        "id": "aJVf2f9DP-j5",
        "outputId": "6a44f4e8-683a-4763-dae9-8a7be4ddd0e1"
      },
      "execution_count": 39,
      "outputs": [
        {
          "output_type": "stream",
          "name": "stdout",
          "text": [
            "tensor([[1., 2.],\n",
            "        [3., 4.],\n",
            "        [5., 6.],\n",
            "        [7., 8.]])\n",
            "tensor([[1., 2., 5., 6.],\n",
            "        [3., 4., 7., 8.]])\n"
          ]
        }
      ]
    },
    {
      "cell_type": "markdown",
      "source": [
        "**Stacking**"
      ],
      "metadata": {
        "id": "fB1Ckgf1xoTK"
      }
    },
    {
      "cell_type": "code",
      "source": [
        "x = torch.FloatTensor([1, 4]) # (2, )\n",
        "y = torch.FloatTensor([2, 5]) # (2, )\n",
        "z = torch.FloatTensor([3, 6]) # (2, )"
      ],
      "metadata": {
        "id": "kOenD9Nkxx3Z"
      },
      "execution_count": 41,
      "outputs": []
    },
    {
      "cell_type": "code",
      "source": [
        "print(torch.stack([x, y, z]))  # (3, 2)\n",
        "print(torch.stack([x, y, z], dim=1)) #(2, 3)"
      ],
      "metadata": {
        "colab": {
          "base_uri": "https://localhost:8080/"
        },
        "id": "DyBauLRPyRY5",
        "outputId": "10aa2e3b-688e-48a3-bb1f-8f4f9080f8e5"
      },
      "execution_count": 42,
      "outputs": [
        {
          "output_type": "stream",
          "name": "stdout",
          "text": [
            "tensor([[1., 4.],\n",
            "        [2., 5.],\n",
            "        [3., 6.]])\n",
            "tensor([[1., 2., 3.],\n",
            "        [4., 5., 6.]])\n"
          ]
        }
      ]
    },
    {
      "cell_type": "code",
      "source": [
        "print(torch.cat([x.unsqueeze(0), y.unsqueeze(0), z.unsqueeze(0)], dim=0))\n",
        "#                   (1,2)           (1,2)             (1,2)       (3, 2)"
      ],
      "metadata": {
        "colab": {
          "base_uri": "https://localhost:8080/"
        },
        "id": "kSrDRY6Kyg04",
        "outputId": "354c2f28-435c-463b-b101-498c23b8464f"
      },
      "execution_count": 43,
      "outputs": [
        {
          "output_type": "stream",
          "name": "stdout",
          "text": [
            "tensor([[1., 4.],\n",
            "        [2., 5.],\n",
            "        [3., 6.]])\n"
          ]
        }
      ]
    },
    {
      "cell_type": "markdown",
      "source": [
        "**One and Zeros**"
      ],
      "metadata": {
        "id": "u5K5HbGJ6dxH"
      }
    },
    {
      "cell_type": "code",
      "source": [
        "x = torch.FloatTensor([[0,1,2], [2,1,0]]) #(2, 3)\n",
        "print(x)"
      ],
      "metadata": {
        "colab": {
          "base_uri": "https://localhost:8080/"
        },
        "id": "3bu8Uxjh6ft5",
        "outputId": "cf2eca13-43e0-48b2-8da9-cf655adad099"
      },
      "execution_count": 45,
      "outputs": [
        {
          "output_type": "stream",
          "name": "stdout",
          "text": [
            "tensor([[0., 1., 2.],\n",
            "        [2., 1., 0.]])\n"
          ]
        }
      ]
    },
    {
      "cell_type": "code",
      "source": [
        "print(torch.ones_like(x)) # x와 같은 차원 생성, element는 전부 1\n",
        "print(torch.zeros_like(x)) # x와 같은 차원 생성, element는 전부 0"
      ],
      "metadata": {
        "colab": {
          "base_uri": "https://localhost:8080/"
        },
        "id": "JB9X04Q468EZ",
        "outputId": "c56eda62-4228-4a90-b92f-729d40700861"
      },
      "execution_count": 46,
      "outputs": [
        {
          "output_type": "stream",
          "name": "stdout",
          "text": [
            "tensor([[1., 1., 1.],\n",
            "        [1., 1., 1.]])\n",
            "tensor([[0., 0., 0.],\n",
            "        [0., 0., 0.]])\n"
          ]
        }
      ]
    },
    {
      "cell_type": "markdown",
      "source": [
        "**In-place Operation**"
      ],
      "metadata": {
        "id": "VFgO8w827ahR"
      }
    },
    {
      "cell_type": "code",
      "source": [
        "x = torch.FloatTensor([[1,2], [3,4]])"
      ],
      "metadata": {
        "id": "f9cqon1F7dKJ"
      },
      "execution_count": 47,
      "outputs": []
    },
    {
      "cell_type": "code",
      "source": [
        "print(x.mul(2.)) # 메모리 새로 할당\n",
        "print(x)\n",
        "print(x.mul_(2.)) # 기존의 메모리 값 변경\n",
        "print(x)"
      ],
      "metadata": {
        "colab": {
          "base_uri": "https://localhost:8080/"
        },
        "id": "43IbdiZ87mXp",
        "outputId": "0620f2ec-a05f-43fa-dc26-73046b8661da"
      },
      "execution_count": 48,
      "outputs": [
        {
          "output_type": "stream",
          "name": "stdout",
          "text": [
            "tensor([[2., 4.],\n",
            "        [6., 8.]])\n",
            "tensor([[1., 2.],\n",
            "        [3., 4.]])\n",
            "tensor([[2., 4.],\n",
            "        [6., 8.]])\n",
            "tensor([[2., 4.],\n",
            "        [6., 8.]])\n"
          ]
        }
      ]
    }
  ]
}